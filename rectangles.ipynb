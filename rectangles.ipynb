{
 "cells": [
  {
   "cell_type": "code",
   "execution_count": 1,
   "metadata": {},
   "outputs": [],
   "source": [
    "%matplotlib inline\n",
    "import matplotlib.pyplot as plt\n",
    "from sklearn.model_selection import train_test_split\n",
    "import numpy as np\n",
    "import pandas as pd"
   ]
  },
  {
   "cell_type": "code",
   "execution_count": 2,
   "metadata": {},
   "outputs": [],
   "source": [
    "def area(box):\n",
    "    return (box[2] - box[0]) * (box[3] - box[1])\n",
    "\n",
    "\n",
    "def intersection_over_union(boxes):\n",
    "    assert(len(boxes) == 8)\n",
    "    boxA = boxes[:4].values\n",
    "    boxB = boxes[4:].values\n",
    "    \n",
    "    boxAArea = area(boxA)\n",
    "    boxBArea = area(boxB)\n",
    "    \n",
    "    if (boxAArea == 0 or boxBArea == 0):\n",
    "        return 0\n",
    "        \n",
    "    xA = max(boxA[0], boxB[0])\n",
    "    yA = max(boxA[1], boxB[1])\n",
    "    xB = min(boxA[2], boxB[2])\n",
    "    yB = min(boxA[3], boxB[3])\n",
    "\n",
    "    interArea = max(0, xB - xA) * max(0, yB - yA)\n",
    "\n",
    "    \n",
    "    iou = interArea / float(boxAArea + boxBArea - interArea)\n",
    "    return iou"
   ]
  },
  {
   "cell_type": "markdown",
   "metadata": {},
   "source": [
    "## Исходный вариант:"
   ]
  },
  {
   "cell_type": "code",
   "execution_count": 428,
   "metadata": {},
   "outputs": [],
   "source": [
    "votes = pd.read_csv(\"train_data.csv\")"
   ]
  },
  {
   "cell_type": "code",
   "execution_count": 429,
   "metadata": {},
   "outputs": [],
   "source": [
    "answers = pd.read_csv(\"train_answers.csv\")"
   ]
  },
  {
   "cell_type": "code",
   "execution_count": 255,
   "metadata": {},
   "outputs": [],
   "source": [
    "quorum = votes.groupby(\"itemId\")[['Xmin','Ymin', 'Xmax', 'Ymax']].mean().reset_index()"
   ]
  },
  {
   "cell_type": "code",
   "execution_count": null,
   "metadata": {},
   "outputs": [],
   "source": [
    "data = quorum.merge(answers, on=[\"itemId\"])"
   ]
  },
  {
   "cell_type": "code",
   "execution_count": null,
   "metadata": {},
   "outputs": [],
   "source": [
    "data[\"iou\"] = data[['Xmin','Ymin', 'Xmax', 'Ymax', 'Xmin_true',\\\n",
    "      'Ymin_true', 'Xmax_true','Ymax_true']].apply(intersection_over_union, axis=1)"
   ]
  },
  {
   "cell_type": "code",
   "execution_count": null,
   "metadata": {},
   "outputs": [],
   "source": [
    "data[\"iou\"].mean()"
   ]
  },
  {
   "cell_type": "markdown",
   "metadata": {},
   "source": [
    "## Рассмотрим другие оценки: усеченное среднее и медиану, как менее чувствительные к выбросам"
   ]
  },
  {
   "cell_type": "code",
   "execution_count": 431,
   "metadata": {},
   "outputs": [
    {
     "data": {
      "text/plain": [
       "0.5064341810007029"
      ]
     },
     "execution_count": 431,
     "metadata": {},
     "output_type": "execute_result"
    }
   ],
   "source": [
    "from scipy.stats import trim_mean\n",
    "\n",
    "quorum = votes.groupby(\"itemId\")[['Xmin','Ymin', 'Xmax', 'Ymax']].agg(lambda x: trim_mean(x, 0.1)).reset_index()\n",
    "data = quorum.merge(answers, on=[\"itemId\"])\n",
    "data[\"iou\"] = data[['Xmin','Ymin', 'Xmax', 'Ymax', 'Xmin_true',\\\n",
    "      'Ymin_true', 'Xmax_true','Ymax_true']].apply(intersection_over_union, axis=1)\n",
    "data[\"iou\"].mean()"
   ]
  },
  {
   "cell_type": "code",
   "execution_count": 16,
   "metadata": {},
   "outputs": [],
   "source": []
  },
  {
   "cell_type": "code",
   "execution_count": 432,
   "metadata": {},
   "outputs": [
    {
     "data": {
      "text/plain": [
       "0.5154863220078157"
      ]
     },
     "execution_count": 432,
     "metadata": {},
     "output_type": "execute_result"
    }
   ],
   "source": [
    "quorum = votes.groupby(\"itemId\")[['Xmin','Ymin', 'Xmax', 'Ymax']].median().reset_index()\n",
    "data = quorum.merge(answers, on=[\"itemId\"])\n",
    "data[\"iou\"] = data[['Xmin','Ymin', 'Xmax', 'Ymax', 'Xmin_true',\\\n",
    "      'Ymin_true', 'Xmax_true','Ymax_true']].apply(intersection_over_union, axis=1)\n",
    "data[\"iou\"].mean()"
   ]
  },
  {
   "cell_type": "markdown",
   "metadata": {},
   "source": [
    "Качество немного лучше исходного варианта, но по-прежнему невысокое"
   ]
  },
  {
   "cell_type": "markdown",
   "metadata": {},
   "source": [
    "## Рассмотрим вариант с наибольшим захватом отмеченных пользователями границ"
   ]
  },
  {
   "cell_type": "code",
   "execution_count": 433,
   "metadata": {},
   "outputs": [
    {
     "data": {
      "text/plain": [
       "0.5809800227327839"
      ]
     },
     "execution_count": 433,
     "metadata": {},
     "output_type": "execute_result"
    }
   ],
   "source": [
    "votes = pd.read_csv('train_data.csv')\n",
    "quorum = votes.groupby('itemId')[['Xmin','Ymin', 'Xmax', 'Ymax']].agg({'Xmin': 'min', 'Xmax': 'max', 'Ymin': 'min', 'Ymax': 'max'}).reset_index()\n",
    "data = quorum.merge(answers, on=[\"itemId\"])\n",
    "data[\"iou\"] = data[['Xmin','Ymin', 'Xmax', 'Ymax', 'Xmin_true',\\\n",
    "      'Ymin_true', 'Xmax_true','Ymax_true']].apply(intersection_over_union, axis=1)\n",
    "data[\"iou\"].mean()"
   ]
  },
  {
   "cell_type": "markdown",
   "metadata": {},
   "source": [
    "Результат лучше, однако на тестовой выборке качество низкое"
   ]
  },
  {
   "cell_type": "markdown",
   "metadata": {},
   "source": [
    "## Рассмотрим версии, если данные пользователей в основном охватывают большую (меньшую) область, чем нужно"
   ]
  },
  {
   "cell_type": "code",
   "execution_count": 437,
   "metadata": {},
   "outputs": [
    {
     "data": {
      "text/plain": [
       "0.5343152796052226"
      ]
     },
     "execution_count": 437,
     "metadata": {},
     "output_type": "execute_result"
    }
   ],
   "source": [
    "votes = pd.read_csv('train_data.csv')\n",
    "quorum = votes.groupby('itemId')[['Xmin','Ymin', 'Xmax', 'Ymax']].agg({'Xmin': lambda x: np.quantile(x, 0.4),\n",
    "                                                                      'Xmax': lambda x: np.quantile(x, 0.6),\n",
    "                                                                      'Ymin': lambda x: np.quantile(x, 0.4),\n",
    "                                                                      'Ymax': lambda x: np.quantile(x, 0.6)}).reset_index()\n",
    "data = quorum.merge(answers, on=[\"itemId\"])\n",
    "data[\"iou\"] = data[['Xmin','Ymin', 'Xmax', 'Ymax', 'Xmin_true',\\\n",
    "      'Ymin_true', 'Xmax_true','Ymax_true']].apply(intersection_over_union, axis=1)\n",
    "data[\"iou\"].mean()"
   ]
  },
  {
   "cell_type": "code",
   "execution_count": 436,
   "metadata": {},
   "outputs": [
    {
     "data": {
      "text/plain": [
       "0.4921461017812395"
      ]
     },
     "execution_count": 436,
     "metadata": {},
     "output_type": "execute_result"
    }
   ],
   "source": [
    "votes = pd.read_csv('train_data.csv')\n",
    "quorum = votes.groupby('itemId')[['Xmin','Ymin', 'Xmax', 'Ymax']].agg({'Xmin': lambda x: np.quantile(x, 0.6),\n",
    "                                                                      'Xmax': lambda x: np.quantile(x, 0.4),\n",
    "                                                                      'Ymin': lambda x: np.quantile(x, 0.6),\n",
    "                                                                      'Ymax': lambda x: np.quantile(x, 0.4)}).reset_index()\n",
    "data = quorum.merge(answers, on=[\"itemId\"])\n",
    "data[\"iou\"] = data[['Xmin','Ymin', 'Xmax', 'Ymax', 'Xmin_true',\\\n",
    "      'Ymin_true', 'Xmax_true','Ymax_true']].apply(intersection_over_union, axis=1)\n",
    "data[\"iou\"].mean()"
   ]
  },
  {
   "cell_type": "markdown",
   "metadata": {},
   "source": [
    "Хотя результаты на тренировачной выборки лучше, на тестовой качество снова низкое"
   ]
  },
  {
   "cell_type": "markdown",
   "metadata": {},
   "source": [
    "Также была рассмотрена линейная регрессия для предсказания значения координаты по остальным признакам, она не приведена в отчете из-за низкого качества"
   ]
  },
  {
   "cell_type": "markdown",
   "metadata": {},
   "source": [
    "Были еще попытки оценивать положение по среднему соотношению размеров сторон и среднему положению центра прямоугольников, выделенных пользователями, в этом случае опять же качество было низким."
   ]
  },
  {
   "cell_type": "markdown",
   "metadata": {},
   "source": [
    "Из всех рассмотренных вариантов лучше всего использовать медиану: выше качество модели и ниже чувствительность к выбросам."
   ]
  }
 ],
 "metadata": {
  "kernelspec": {
   "display_name": "Python 3",
   "language": "python",
   "name": "python3"
  },
  "language_info": {
   "codemirror_mode": {
    "name": "ipython",
    "version": 3
   },
   "file_extension": ".py",
   "mimetype": "text/x-python",
   "name": "python",
   "nbconvert_exporter": "python",
   "pygments_lexer": "ipython3",
   "version": "3.7.1"
  }
 },
 "nbformat": 4,
 "nbformat_minor": 2
}
